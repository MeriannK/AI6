{
 "cells": [
  {
   "cell_type": "code",
   "execution_count": 0,
   "metadata": {
    "colab": {},
    "colab_type": "code",
    "collapsed": true,
    "id": "2eRycQzyLTGw"
   },
   "outputs": [],
   "source": [
    "import numpy as np\n",
    "\n",
    "import matplotlib.pyplot as plt\n",
    "%matplotlib inline"
   ]
  },
  {
   "cell_type": "markdown",
   "metadata": {
    "colab_type": "text",
    "id": "bStKEgbgLTG3"
   },
   "source": [
    "---"
   ]
  },
  {
   "cell_type": "code",
   "execution_count": 0,
   "metadata": {
    "colab": {},
    "colab_type": "code",
    "collapsed": true,
    "id": "eC3s5PabLTG4"
   },
   "outputs": [],
   "source": [
    "def estimate_coefficients(x, y):\n",
    "    # берем размер X\n",
    "    size_x = np.size(x)\n",
    "\n",
    "    # оцениваем среднейй\n",
    "    mean_x, mean_y = np.mean(x), np.mean(y)\n",
    "\n",
    "    # вычисляем стандартное отклонение и отклонение от x\n",
    "    cross_deviation_xy = np.sum(y * x - size_x * mean_y * mean_x)\n",
    "    cross_deviation_xx = np.sum(x * x - size_x * mean_x * mean_x)\n",
    "\n",
    "    # вычисляем  коеф. регр. (по которым необходимо переместить линию регрессии)\n",
    "    regr_coef_1 = cross_deviation_xy / cross_deviation_xx\n",
    "    regr_coef_0 = mean_y - regr_coef_1 * mean_x\n",
    "\n",
    "    return regr_coef_0, regr_coef_1"
   ]
  },
  {
   "cell_type": "code",
   "execution_count": 0,
   "metadata": {
    "colab": {},
    "colab_type": "code",
    "collapsed": true,
    "id": "KQGbwRQTLTHF"
   },
   "outputs": [],
   "source": [
    "def plot(x, y, b):\n",
    "    plt.scatter(x, y, color='b', marker='o')\n",
    "\n",
    "    y_pred = b[0] + b[1] * x\n",
    "\n",
    "    plt.plot(x, y_pred, color='r')\n",
    "\n",
    "    plt.xlabel('size')\n",
    "    plt.ylabel('cost')\n",
    "\n",
    "    #plt.show()"
   ]
  },
  {
   "cell_type": "code",
   "execution_count": 0,
   "metadata": {
    "colab": {},
    "colab_type": "code",
    "collapsed": true,
    "id": "WQ8c-PvwLTHQ"
   },
   "outputs": [],
   "source": [
    "# основная ф-я, которая генерит случайные (x,y) и строить уже готовый график с коэфф.\n",
    "def main():\n",
    "    # генерим массив случайных целых чисел\n",
    "    x = np.array(np.random.randint(100, size=20))\n",
    "    y = np.array(np.random.randint(100, size=20))\n",
    "    print('вектор x: ', x)\n",
    "    print('вектор y: ', y)\n",
    "\n",
    "    estimate_coef = estimate_coefficients(x, y)\n",
    "    print('коэффициенты: ({},{})'.format(estimate_coef[0], estimate_coef[1]))\n",
    "\n",
    "    plot(x, y, estimate_coef)"
   ]
  },
  {
   "cell_type": "code",
   "execution_count": 0,
   "metadata": {
    "colab": {
     "base_uri": "https://localhost:8080/",
     "height": 330
    },
    "colab_type": "code",
    "id": "t-_OLvVkLTHX",
    "outputId": "798382d5-f01b-42f5-cc3b-6c338d56c40f",
    "scrolled": false
   },
   "outputs": [
    {
     "name": "stdout",
     "output_type": "stream",
     "text": [
      "вектор x:  [38 51 83 85 69 95 84  4 97 26  1 38 18 26 49 11 71 14 63 95]\n",
      "вектор y:  [44 78 19 34 68  6 13 36 35 74 93 76 21 63  4 45 15 94 16 89]\n",
      "коэффициенты: (-1.3773781565604182,0.9337402388322282)\n"
     ]
    },
    {
     "data": {
      "image/png": "[encoded data removed]",
      "text/plain": [
       "<matplotlib.figure.Figure at 0x7f480db9e240>"
      ]
     },
     "metadata": {
      "tags": []
     },
     "output_type": "display_data"
    }
   ],
   "source": [
    "main()"
   ]
  },
  {
   "cell_type": "code",
   "execution_count": 0,
   "metadata": {
    "colab": {},
    "colab_type": "code",
    "collapsed": true,
    "id": "7SK-WRWzLTHs"
   },
   "outputs": [],
   "source": []
  },
  {
   "cell_type": "markdown",
   "metadata": {
    "colab_type": "text",
    "id": "CoFimUyYLTH0"
   },
   "source": [
    "---"
   ]
  },
  {
   "cell_type": "markdown",
   "metadata": {
    "colab_type": "text",
    "id": "UjfPFT9nLTH1"
   },
   "source": [
    "### Теперь воспользуемся готовой либой и предскажем для новых данных"
   ]
  },
  {
   "cell_type": "code",
   "execution_count": 0,
   "metadata": {
    "colab": {},
    "colab_type": "code",
    "collapsed": true,
    "id": "9tLsEvaDLTH2"
   },
   "outputs": [],
   "source": [
    "from sklearn.linear_model import LinearRegression"
   ]
  },
  {
   "cell_type": "code",
   "execution_count": 0,
   "metadata": {
    "colab": {
     "base_uri": "https://localhost:8080/",
     "height": 85
    },
    "colab_type": "code",
    "collapsed": true,
    "id": "H1XmgCS1LTIS",
    "outputId": "a3f1c293-3344-430b-8249-0db12c6aab6a"
   },
   "outputs": [
    {
     "data": {
      "text/plain": [
       "array([ 4.08154121,  4.08391509,  0.28574237,  1.63193593, 12.25687951,\n",
       "        9.4417299 , 18.88629521, 21.88538582, 10.24350093, 27.78842612,\n",
       "       12.0937046 , 20.28864455, 14.24645966, 21.01754406, 16.5839162 ,\n",
       "       15.32813208, 11.90398011, 23.89231236, 26.63649006, 17.68922977])"
      ]
     },
     "execution_count": 27,
     "metadata": {
      "tags": []
     },
     "output_type": "execute_result"
    }
   ],
   "source": [
    "# x от 0 до 30\n",
    "x = 30 * np.random.random((20))\n",
    "x"
   ]
  },
  {
   "cell_type": "code",
   "execution_count": 0,
   "metadata": {
    "colab": {
     "base_uri": "https://localhost:8080/",
     "height": 85
    },
    "colab_type": "code",
    "collapsed": true,
    "id": "2XMB7FRyLTIm",
    "outputId": "6dbfef57-ddad-4e9a-df54-e1c78edad4d8"
   },
   "outputs": [
    {
     "data": {
      "text/plain": [
       "array([ 2.27686929,  3.64536138,  0.4746427 ,  3.56564275,  5.72301728,\n",
       "        5.40127527, 11.03042027, 12.68130988,  5.00082778, 15.5128685 ,\n",
       "        7.35214252, 10.91117042,  9.17243812, 11.86042843,  8.78587746,\n",
       "        6.85690935,  6.42145751, 11.56146502, 14.21715127,  8.47941333])"
      ]
     },
     "execution_count": 29,
     "metadata": {
      "tags": []
     },
     "output_type": "execute_result"
    }
   ],
   "source": [
    "# y = a*x + b с небольшим шумомм\n",
    "y = 0.5 * x + 1.0 + np.random.normal(size=x.shape)\n",
    "y"
   ]
  },
  {
   "cell_type": "code",
   "execution_count": 0,
   "metadata": {
    "colab": {
     "base_uri": "https://localhost:8080/",
     "height": 34
    },
    "colab_type": "code",
    "id": "p9OUe-ZjLTJu",
    "outputId": "eec41ff8-27c0-45e5-9e8b-d18cec8954b9"
   },
   "outputs": [
    {
     "data": {
      "text/plain": [
       "LinearRegression(copy_X=True, fit_intercept=True, n_jobs=1, normalize=False)"
      ]
     },
     "execution_count": 11,
     "metadata": {
      "tags": []
     },
     "output_type": "execute_result"
    }
   ],
   "source": [
    "# создаем и обучаем модель\n",
    "reg = LinearRegression()\n",
    "model = reg.fit(x, y)\n",
    "model"
   ]
  },
  {
   "cell_type": "code",
   "execution_count": 0,
   "metadata": {
    "colab": {},
    "colab_type": "code",
    "collapsed": true,
    "id": "n4Aw5qObLTJ4"
   },
   "outputs": [],
   "source": []
  },
  {
   "cell_type": "code",
   "execution_count": 0,
   "metadata": {
    "colab": {
     "base_uri": "https://localhost:8080/",
     "height": 34
    },
    "colab_type": "code",
    "id": "UFHU1QLWLTJ8",
    "outputId": "b3d1d544-37e5-42b6-9e0d-0cd85484adeb",
    "scrolled": true
   },
   "outputs": [
    {
     "data": {
      "text/plain": [
       "(100, 100)"
      ]
     },
     "execution_count": 15,
     "metadata": {
      "tags": []
     },
     "output_type": "execute_result"
    }
   ],
   "source": [
    "# предсказываем для новых данных с помощью `model.predict()`\n",
    "x_new = np.linspace(0, 30, 100)\n",
    "y_new = model.predict(x_new[:, np.newaxis])\n",
    "len(x_new), len(y_new)"
   ]
  },
  {
   "cell_type": "code",
   "execution_count": 0,
   "metadata": {
    "colab": {
     "base_uri": "https://localhost:8080/",
     "height": 296
    },
    "colab_type": "code",
    "id": "DRtQ3FosLTKI",
    "outputId": "c469204e-6b21-4465-bc8b-419a2d87dac4",
    "scrolled": true
   },
   "outputs": [
    {
     "data": {
      "text/plain": [
       "[<matplotlib.lines.Line2D at 0x7f4807ec5198>]"
      ]
     },
     "execution_count": 16,
     "metadata": {
      "tags": []
     },
     "output_type": "execute_result"
    },
    {
     "data": {
      "image/png": "[encoded data removed]",
      "text/plain": [
       "<matplotlib.figure.Figure at 0x7f4807ec5128>"
      ]
     },
     "metadata": {
      "tags": []
     },
     "output_type": "display_data"
    }
   ],
   "source": [
    "plt.xlabel('size')\n",
    "plt.ylabel('cost')\n",
    "plt.scatter(x, y,color='b')\n",
    "\n",
    "plt.plot(x_new, y_new,color='r')"
   ]
  },
  {
   "cell_type": "markdown",
   "metadata": {
    "colab_type": "text",
    "id": "do9VcF6-LTKN"
   },
   "source": [
    "---"
   ]
  },
  {
   "cell_type": "markdown",
   "metadata": {
    "colab_type": "text",
    "id": "zwvP78gALTKO"
   },
   "source": [
    "### Простое задание:\n",
    "построить лин рег с помощью numpy"
   ]
  },
  {
   "cell_type": "code",
   "execution_count": 0,
   "metadata": {
    "colab": {},
    "colab_type": "code",
    "collapsed": true,
    "id": "0guPTqGkSmQo"
   },
   "outputs": [],
   "source": [
    "def estimate_coefficients_with_np(x, y):\n",
    "    A = np.vstack([x, np.ones(len(x))]).T\n",
    "    m, c = np.linalg.lstsq(A, y, rcond=None)[0]\n",
    "    return m, c"
   ]
  },
  {
   "cell_type": "code",
   "execution_count": 0,
   "metadata": {
    "colab": {},
    "colab_type": "code",
    "collapsed": true,
    "id": "F0HcVDXcS0Me"
   },
   "outputs": [],
   "source": [
    "# основная ф-я, которая генерит случайные (x,y) и строить уже готовый график с коэфф.\n",
    "def main():\n",
    "    # генерим массив случайных целых чисел\n",
    "    x = np.array(np.random.randint(100, size=100))\n",
    "    y = 0.5 * x + 3.0 + np.random.normal(size=x.shape)\n",
    "    print('вектор x: ', x, '\\n')\n",
    "    print('вектор y: ', y, '\\n')\n",
    "\n",
    "    m, c = estimate_coefficients_with_np(x, y)\n",
    "    print('коэффициенты: ({},{})'.format(m, c))\n",
    "\n",
    "    plt.plot(x, y, 'o', label='Original data', markersize=5)\n",
    "    plt.plot(x, m*x + c, 'r', label='Fitted line')\n",
    "    plt.legend()\n",
    "    plt.show()"
   ]
  },
  {
   "cell_type": "code",
   "execution_count": 0,
   "metadata": {
    "colab": {
     "base_uri": "https://localhost:8080/",
     "height": 690
    },
    "colab_type": "code",
    "id": "tR1tpJi9S6Py",
    "outputId": "b927286b-e04d-4950-f1a1-310bfd919164"
   },
   "outputs": [
    {
     "name": "stdout",
     "output_type": "stream",
     "text": [
      "вектор x:  [94 47 50 81 55 20 91 76 19 12 30 35 13 71 53 96 22 58 85 35 23 82 93 81\n",
      " 91 41 93 83 86 38 23 22 84 87 17 59 99 70 74 47 54  9  6 23 41 81 49 24\n",
      " 83 39 85 12 72 83 76 49 35 94 82 39 35 97 43  4  5 81 17 13 15 78 58 55\n",
      " 27  0 76  3 55 74 75 60 68 32 30 83 81 25  3 56 94 49 38 83 82 57 41 47\n",
      " 57  9 62 30] \n",
      "\n",
      "вектор y:  [49.60035602 27.1165044  26.65205565 42.88821116 30.58286404 11.37110428\n",
      " 47.78595918 40.66085931 13.60233454 10.75506354 18.35807137 20.44241685\n",
      " 10.46248793 38.86589842 29.41882832 52.01504606 13.09165757 30.73668672\n",
      " 45.5361983  20.93683129 14.03096763 43.09349949 49.76445278 43.29572786\n",
      " 47.40807782 23.76138492 47.71792034 44.54264988 45.0293847  20.04250479\n",
      " 13.10162784 12.52958995 44.36956829 46.29246069 11.93131793 31.70851513\n",
      " 51.37650979 38.73300578 40.02455283 26.12102202 30.84265413  9.97953356\n",
      "  8.15779655 15.34712599 24.64714116 42.82830684 26.30565013 16.59415418\n",
      " 43.45745148 22.94551486 45.05732055  9.2670598  40.02433877 45.39605559\n",
      " 42.37384524 28.66176889 20.83901395 48.92964499 46.20914942 23.79241912\n",
      " 20.75547129 50.85750105 23.56571978  4.12964798  5.82444898 43.23476563\n",
      " 12.86262357  8.10355975 12.38182439 41.68598653 31.69897893 30.58926493\n",
      " 16.74358901  2.56104162 41.18225669  6.09862787 30.6614131  40.86564234\n",
      " 41.74461943 33.15459793 36.69933058 19.10359872 17.60094778 44.8792941\n",
      " 43.70108903 13.98238364  3.91588605 31.10636709 51.31775291 28.69182201\n",
      " 20.70636602 43.57831725 44.39326533 31.21921496 22.36687296 26.60985247\n",
      " 29.65988072  7.69985857 33.91999595 18.59950958] \n",
      "\n",
      "коэффициенты: (0.4939735850107733,3.3262251411606227)\n"
     ]
    },
    {
     "data": {
      "image/png": "[encoded data removed]",
      "text/plain": [
       "<matplotlib.figure.Figure at 0x7f4807a6f7f0>"
      ]
     },
     "metadata": {
      "tags": []
     },
     "output_type": "display_data"
    }
   ],
   "source": [
    "main()"
   ]
  }
 ],
 "metadata": {
  "colab": {
   "name": "Copy of example_lin-reg.ipynb",
   "provenance": [],
   "version": "0.3.2"
  },
  "kernelspec": {
   "display_name": "Python 3",
   "language": "python",
   "name": "python3"
  },
  "language_info": {
   "codemirror_mode": {
    "name": "ipython",
    "version": 3
   },
   "file_extension": ".py",
   "mimetype": "text/x-python",
   "name": "python",
   "nbconvert_exporter": "python",
   "pygments_lexer": "ipython3",
   "version": "3.6.3"
  }
 },
 "nbformat": 4,
 "nbformat_minor": 1
}
